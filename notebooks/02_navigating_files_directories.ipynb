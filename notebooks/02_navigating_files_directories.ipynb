{
 "cells": [
  {
   "cell_type": "markdown",
   "metadata": {},
   "source": [
    "# Episode 2 - Navigating Files and Directories\n",
    "This notebook is based on a snapshot of [Episode 2](https://kmichali.github.io/SC-shell-novice/02-filedir/index.html) of the [Unix Shell lesson](https://kmichali.github.io/SC-shell-novice/) from the [Software Carpentry](https://software-carpentry.org). The original material has more detail.\n",
    "\n",
    "### Questions:\n",
    "- How can I move around on my computer?\n",
    "- How can I see what files and directories I have?\n",
    "- How can I specify the location of a file or directory on my computer?\n",
    "\n",
    "\n",
    "### Objectives:\n",
    "- Translate an absolute path into a relative path and vice versa.\n",
    "- Construct absolute and relative paths that identify specific files and directories.\n",
    "- Use options and arguments to change the behaviour of a shell command\n",
    "\n",
    "<hr style=\"border: solid 1px red; margin-top: 1.5% \">\n",
    "\n",
    "### Video\n",
    "Learn with video:\n",
    "- [part 1](https://imperial.cloud.panopto.eu/Panopto/Pages/Viewer.aspx?id=4c78e22d-2b22-4464-b9fa-abd500fbd13d)\n",
    "- [part 2](https://imperial.cloud.panopto.eu/Panopto/Pages/Viewer.aspx?id=f57ed93e-e0fe-4918-8182-abd501029064)\n",
    "\n",
    "\n",
    "### Practice data in Google Colab\n",
    "If you are viewing this notebook in Colab and have saved it in your Drive (\"File\"->\"Save a copy in Drive\"), run the cell below to download practice data.\n",
    "\n"
   ]
  },
  {
   "cell_type": "code",
   "execution_count": null,
   "metadata": {},
   "outputs": [],
   "source": [
    "%%bash\n",
    "[ -e data-shell ] && echo \"data already exists\" || { wget https://kmichali.github.io/SC-shell-novice/data/data-shell.zip; unzip data-shell.zip; } "
   ]
  },
  {
   "cell_type": "markdown",
   "metadata": {},
   "source": [
    "<hr style=\"border: solid 1px red; margin-top: 1.5% \">"
   ]
  },
  {
   "cell_type": "markdown",
   "metadata": {},
   "source": [
    "In this episode, we will learn to move around the file system and to inspect a directory content.\n",
    "\n",
    "First let's find out where we are by running a command called **`pwd`**\n",
    "(which stands for 'print working directory'). Directories are like *places* - at any time\n",
    "while we are using the shell we are in exactly one place, called\n",
    "our **current working directory**.\n",
    "\n",
    "**Note**: You can practice commands in the command cells below.  They have `In []` symbol on the left and every cell has to start with a \"magic\" command `%%bash`.  Execute each cell by pressing Shift+Enter together.  \n",
    "\n",
    "One the command line, %%bash is not used at all, it is only understood by Jupyter Notebooks.  We will start practising in notebooks because they provide an excellent learning environment.  Later, we will move to the command line."
   ]
  },
  {
   "cell_type": "code",
   "execution_count": null,
   "metadata": {},
   "outputs": [],
   "source": [
    "%%bash\n",
    "pwd"
   ]
  },
  {
   "cell_type": "markdown",
   "metadata": {},
   "source": [
    "## Home directory\n",
    "<hr style=\"border: solid 1px gray; margin-top: 1.5% \">\n",
    "\n",
    "The home directory path will look different on different operating systems. For a user named Nelle on Linux it may look like **`/home/nelle`**, on a Mac **`/Users/nelle`** and on Windows it will be similar to **`C:\\Documents and Settings\\nelle`**.\n",
    "\n",
    "When you open a terminal on Linux or a Mac, your current working directory is set to home directory."
   ]
  },
  {
   "cell_type": "markdown",
   "metadata": {
    "collapsed": true
   },
   "source": [
    "## File system\n",
    "<hr style=\"border: solid 1px gray; margin-top: 1.5% \">\n",
    "\n",
    "A Linux-like file system is a tree with the **root directory** (**/**) at the top.  Below are system folders and a folder for the users (nelle, larry and imhotep in the figure below).\n",
    "\n",
    "\n",
    "![Home Directories](../fig/home-directories.svg)\n",
    "\n",
    "\n",
    "## Path\n",
    "<hr style=\"border: solid 1px gray; margin-top: 1.5% \">\n",
    "\n",
    "For example, the path to Nelle's home directory is **`/Users/nelle`**.\n",
    "- **absolute** path always starts at the top of the file system and always starts with the leading slash (e.g., **`/Users/nelle`**).\n",
    "- **relative** path starts from the current working directory - if you are in **`/Users/nelle`**, the relative path to Larry's home directory is **`../larry`** (two dots in a path always indicate \"go one level up\")."
   ]
  },
  {
   "cell_type": "markdown",
   "metadata": {},
   "source": [
    "## List files and directories\n",
    "<hr style=\"border: solid 1px gray; margin-top: 1.5% \">\n",
    "\n",
    "The command **`ls`** (short for list) displays files and directories in the current working directory. "
   ]
  },
  {
   "cell_type": "code",
   "execution_count": null,
   "metadata": {},
   "outputs": [],
   "source": [
    "%%bash\n",
    "ls"
   ]
  },
  {
   "cell_type": "markdown",
   "metadata": {},
   "source": [
    "## Command flags\n",
    "<hr style=\"border: solid 1px gray; margin-top: 1.5% \">\n",
    "\n",
    "We can modify an output of a command by adding a flag (or a switch).  For example, **`ls -F`** will add a slash to directory names.\n",
    "\n",
    "The general systax of a unix command is: **`command space -flag(s) space path`**\n",
    "\n",
    "A ***flag can be a single letter or a word***. Single letters are preceded by a single dash (e.g., ls -F) and words are preceded by two dashes (e.g., ls --help)."
   ]
  },
  {
   "cell_type": "code",
   "execution_count": null,
   "metadata": {},
   "outputs": [],
   "source": [
    "%%bash\n",
    "ls -F"
   ]
  },
  {
   "cell_type": "markdown",
   "metadata": {},
   "source": [
    "## Getting help\n",
    "<hr style=\"border: solid 1px gray; margin-top: 1.5% \">\n",
    "\n",
    "Linux commands usually have many flags.  To see the list, type either **`man ls`** or **`ls --help`** (one of them should work depending on your system).  The **`man`** (short for manual) works for the majority of commands.\n",
    "\n",
    "Note: On some systems, you have press the letter q to get the prompt back."
   ]
  },
  {
   "cell_type": "code",
   "execution_count": null,
   "metadata": {},
   "outputs": [],
   "source": [
    "%%bash\n",
    "man ls"
   ]
  },
  {
   "cell_type": "markdown",
   "metadata": {},
   "source": [
    "## Unsupported command flags\n",
    "\n",
    "Not all letters have a meaning. If you try to use them, the shell will produce an error message.  \n",
    "\n",
    "On similar note, the same letter may mean different things to different commands."
   ]
  },
  {
   "cell_type": "code",
   "execution_count": null,
   "metadata": {},
   "outputs": [],
   "source": [
    "%%bash \n",
    "ls -j"
   ]
  },
  {
   "cell_type": "markdown",
   "metadata": {},
   "source": [
    "## More ls flags\n",
    "\n",
    "Everyone remembers few flags for the most frequent commands.  Here are the useful ones for ls:\n",
    "- **`ls -a`** shows hidden files\n",
    "- **`ls -l`** shows long format (permissions, ownership, size, modification date)\n",
    "- **`ls -t`** sorts files by time stamps\n",
    "- **`ls -h`** adds units to file size\n",
    "\n",
    "One can combine flags, for example **`ls -lrt`** will list files and directories by time in reverse order.  Very useful if you want to see the newest files at the bottom of the listing.\n"
   ]
  },
  {
   "cell_type": "markdown",
   "metadata": {},
   "source": [
    "## Practice\n",
    "Try **`ls`** with some flags below:"
   ]
  },
  {
   "cell_type": "code",
   "execution_count": null,
   "metadata": {},
   "outputs": [],
   "source": [
    "%%bash\n",
    "# your command go here\n"
   ]
  },
  {
   "cell_type": "markdown",
   "metadata": {},
   "source": [
    "## List content of directories other than the current one\n",
    "\n",
    "If the **`ls`** command contains no path, it will show the current directory. It will also work if you specify a different directory.  For example, **`ls -l /Users/larry`** will show the content of Larry's home directory.\n",
    "\n",
    "## Special symbols for the current directory and for the directory directly above\n",
    "<hr style=\"border: solid 1px gray; margin-top: 1.5% \">\n",
    "\n",
    "If you type \"**`ls .`**\", you will get listings for the current directory (\"**`ls ./`**\" means the same). The symbol \"***.***\" has the same meaning, \"the current directory\", for many Linux commands.  Similarly, using two dots \"***..***\" means directory one level up."
   ]
  },
  {
   "cell_type": "markdown",
   "metadata": {},
   "source": [
    "## Changing the current directory\n",
    "<hr style=\"border: solid 1px gray; margin-top: 1.5% \">\n",
    "\n",
    "The command **`cd`** (change directory) followed by a path will change your current working directory to the location specified by the path.\n",
    "\n",
    "If you have not executed **`cd`** in this notebook, your current directory should be called \"notebooks\". Execute **`cd data-shell`** in the cell below and your current directory will be \"data-shell\" that holds practice files and directories.\n",
    "\n",
    "**Note:** In Jupyter Notebooks with %%bash, the cd command applies only to the current cell. If the current directory is to persist in the cells below, skip %%bash and use a single cd command per cell.  For now, we'll keep using %%bash."
   ]
  },
  {
   "cell_type": "code",
   "execution_count": null,
   "metadata": {},
   "outputs": [],
   "source": [
    "%%bash\n",
    "cd data-shell\n",
    "pwd"
   ]
  },
  {
   "cell_type": "markdown",
   "metadata": {},
   "source": [
    "Practice chaging directories in the cells below.  Cd into the directory molecules and back to data-shell."
   ]
  },
  {
   "cell_type": "code",
   "execution_count": null,
   "metadata": {},
   "outputs": [],
   "source": [
    "%%bash\n",
    "pwd\n",
    "cd data-shell\n",
    "pwd\n",
    "cd molecules\n",
    "pwd\n",
    "cd ../\n",
    "pwd"
   ]
  },
  {
   "cell_type": "markdown",
   "metadata": {},
   "source": [
    "## Useful shortcuts for the cd command\n",
    "<hr style=\"border: solid 1px gray; margin-top: 1.5% \">\n",
    "\n",
    "- If you type **`cd`** with no directory name, you will find yourself in your home directory. \n",
    "- If you type **`cd -`**, you will undo the last **`cd`**.\n",
    "- The symbol **`~`** stands for home directory, for example, if your home directory is **`/Users/bob`** then the command **`cd ~/thesis`** means \"change current working directory to **`/Users/bob/thesis`**\"."
   ]
  },
  {
   "cell_type": "code",
   "execution_count": null,
   "metadata": {
    "scrolled": true
   },
   "outputs": [],
   "source": [
    "%%bash\n",
    "cd\n",
    "pwd\n",
    "cd -\n",
    "pwd"
   ]
  },
  {
   "cell_type": "markdown",
   "metadata": {},
   "source": [
    "## Exercise 1\n",
    "<hr style=\"border: solid 1px gray; margin-top: 1.5% \">\n",
    "\n",
    "\n",
    "Starting from **`/Users/amanda/data`**, which of the following commands could Amanda use to navigate to her home directory, which is **`/Users/amanda`**?\n",
    "\n",
    "1. **`cd .`**\n",
    "1. **`cd /`**\n",
    "1. **`cd /home/amanda`**\n",
    "1. **`cd ../..`**\n",
    "1. **`cd ~`**\n",
    "1. **`cd home`**\n",
    "1. **`cd ~/data/..`**\n",
    "1. **`cd`**\n",
    "1. **`cd ..`**\n",
    "\n",
    "Solution can be found at the end of this notebook."
   ]
  },
  {
   "cell_type": "markdown",
   "metadata": {},
   "source": [
    "<hr style=\"border: solid 1px red; margin-top: 1.5% \">\n",
    "\n",
    "## Keypoints:\n",
    "\n",
    "- The file system is responsible for managing information on the disk.\n",
    "- Information is stored in files, which are stored in directories (folders).\n",
    "- Directories can also store other directories, which forms a directory tree.\n",
    "- **`cd path`** changes the current working directory.\n",
    "- **`ls path`** prints a listing of a specific file or directory; **`ls`** on its own lists the current working directory.\n",
    "- **`pwd`** prints the user's current working directory.\n",
    "- **`/`** on its own is the root directory of the whole file system.\n",
    "- A relative path specifies a location starting from the current location.\n",
    "- An absolute path specifies a location from the root of the file system.\n",
    "- Directory names in a path are separated with **`/`** on Unix, but **`\\`** on Windows.\n",
    "- **`..`** means 'the directory above the current one'; **`.`** on its own means 'the current directory'."
   ]
  },
  {
   "cell_type": "markdown",
   "metadata": {},
   "source": [
    "<hr style=\"border: solid 1px gray; margin-top: 1.5% \">\n",
    "\n",
    "### Solution to Exercise 1:\n",
    "    \n",
    "1. No: . stands for the current directory.\n",
    "2. No: / stands for the root directory.\n",
    "3. No: Amanda’s home directory is /Users/amanda.\n",
    "4. No: this goes up two levels, i.e. ends in /Users.\n",
    "5. Yes: ~ stands for the user’s home directory, in this case /Users/amanda.\n",
    "6. No: this would navigate into a directory home in the current directory if it exists.\n",
    "7. Yes: unnecessarily complicated, but correct.\n",
    "8. Yes: shortcut to go back to the user’s home directory.\n",
    "9. Yes: goes up one level.\n",
    "\n"
   ]
  },
  {
   "cell_type": "code",
   "execution_count": null,
   "metadata": {},
   "outputs": [],
   "source": []
  }
 ],
 "metadata": {
  "kernelspec": {
   "display_name": "Python 3",
   "language": "python",
   "name": "python3"
  },
  "language_info": {
   "codemirror_mode": {
    "name": "ipython",
    "version": 3
   },
   "file_extension": ".py",
   "mimetype": "text/x-python",
   "name": "python",
   "nbconvert_exporter": "python",
   "pygments_lexer": "ipython3",
   "version": "3.7.6"
  }
 },
 "nbformat": 4,
 "nbformat_minor": 2
}
